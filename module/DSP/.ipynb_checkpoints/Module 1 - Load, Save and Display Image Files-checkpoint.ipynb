{
 "cells": [
  {
   "cell_type": "markdown",
   "metadata": {},
   "source": [
    "## Hi and welcome to our first lesson!\n",
    "\n",
    "#### Reading, writing and displaying images with OpenCV"
   ]
  },
  {
   "cell_type": "markdown",
   "metadata": {},
   "source": [
    "Let's start by importing the OpenCV libary "
   ]
  },
  {
   "cell_type": "code",
   "execution_count": 1,
   "metadata": {},
   "outputs": [],
   "source": [
    "# Press CTRL + ENTER to run this line\n",
    "# You should see an * between the [ ] on the left\n",
    "# OpenCV takes a couple seconds to import the first time\n",
    "# Once done, * is replaced by a number representing the order it is executed\n",
    "\n",
    "import cv2"
   ]
  },
  {
   "cell_type": "markdown",
   "metadata": {},
   "source": [
    "# Now let's import numpy\n",
    "# We use as np, so that everything we call on numpy, we can type np instead\n",
    "# It's short and looks neater\n",
    "\n",
    "import numpy as np "
   ]
  },
  {
   "cell_type": "markdown",
   "metadata": {},
   "source": [
    "Let's now load our first image"
   ]
  },
  {
   "cell_type": "code",
   "execution_count": 16,
   "metadata": {},
   "outputs": [
    {
     "name": "stdout",
     "output_type": "stream",
     "text": [
      "Height of Image: 1280 pixels\n",
      "Width of Image: 961 pixels\n",
      "✅ Image saved as images/output.jpg\n"
     ]
    }
   ],
   "source": [
    "import cv2\n",
    "import numpy as np\n",
    "\n",
    "# Load an image using 'imread'\n",
    "image = cv2.imread('./images/pic.jpg')\n",
    "\n",
    "# Check if image loaded correctly\n",
    "if image is None:\n",
    "    print(\"⚠️ Could not load image. Check the path!\")\n",
    "else:\n",
    "    # Show image\n",
    "    cv2.imshow('Hello World', image)\n",
    "    cv2.waitKey(0)\n",
    "    cv2.destroyAllWindows()\n",
    "\n",
    "    # Print dimensions\n",
    "    print('Height of Image:', image.shape[0], 'pixels')\n",
    "    print('Width of Image:', image.shape[1], 'pixels')\n",
    "\n",
    "    # Save image\n",
    "    cv2.imwrite('images/output.jpg', image)\n",
    "    print(\"✅ Image saved as images/output.jpg\")\n"
   ]
  },
  {
   "cell_type": "code",
   "execution_count": 18,
   "metadata": {},
   "outputs": [],
   "source": [
    "import cv2\n",
    "\n",
    "# Load the image\n",
    "image = cv2.imread('./images/pic.jpg')\n",
    "\n",
    "# Check if the image was loaded correctly\n",
    "if image is None:\n",
    "    print(\"⚠️ Could not load image. Check the file path.\")\n",
    "else:\n",
    "    cv2.imshow('Hello World', image)\n",
    "    cv2.waitKey(0)\n",
    "    cv2.destroyAllWindows()\n"
   ]
  },
  {
   "cell_type": "markdown",
   "metadata": {},
   "source": [
    "### Let's take a closer look at how images are stored"
   ]
  },
  {
   "cell_type": "code",
   "execution_count": 19,
   "metadata": {},
   "outputs": [],
   "source": [
    "# Import numpy\n",
    "import numpy as np"
   ]
  },
  {
   "cell_type": "code",
   "execution_count": 1,
   "metadata": {},
   "outputs": [
    {
     "ename": "AttributeError",
     "evalue": "'function' object has no attribute 'shape'",
     "output_type": "error",
     "traceback": [
      "\u001b[31m---------------------------------------------------------------------------\u001b[39m",
      "\u001b[31mAttributeError\u001b[39m                            Traceback (most recent call last)",
      "\u001b[36mCell\u001b[39m\u001b[36m \u001b[39m\u001b[32mIn[1]\u001b[39m\u001b[32m, line 1\u001b[39m\n\u001b[32m----> \u001b[39m\u001b[32m1\u001b[39m \u001b[38;5;28mprint\u001b[39m (\u001b[38;5;28;43minput\u001b[39;49m\u001b[43m.\u001b[49m\u001b[43mshape\u001b[49m)\n",
      "\u001b[31mAttributeError\u001b[39m: 'function' object has no attribute 'shape'"
     ]
    }
   ],
   "source": [
    "print (input.shape)"
   ]
  },
  {
   "cell_type": "raw",
   "metadata": {},
   "source": [
    "#### Shape gives the dimensions of the image array\n",
    "\n",
    "The 2D dimensions are 830 pixels in high bv 1245 pixels wide.\n",
    "The '3L' means that there are 3 other components (RGB) that make up this image."
   ]
  },
  {
   "cell_type": "code",
   "execution_count": null,
   "metadata": {
    "scrolled": true
   },
   "outputs": [],
   "source": [
    "# Let's print each dimension of the image\n",
    "\n",
    "print ('Height of Image:', int(input.shape[0]), 'pixels')\n",
    "print ('Width of Image:', int(input.shape[1]), 'pixels')\n",
    "\n"
   ]
  },
  {
   "cell_type": "markdown",
   "metadata": {},
   "source": [
    "### How do we save images we edit in OpenCV?"
   ]
  },
  {
   "cell_type": "code",
   "execution_count": 15,
   "metadata": {},
   "outputs": [
    {
     "ename": "error",
     "evalue": "OpenCV(4.12.0) :-1: error: (-5:Bad argument) in function 'imwrite'\n> Overload resolution failed:\n>  - img is not a numpy array, neither a scalar\n>  - Expected Ptr<cv::UMat> for argument 'img'\n",
     "output_type": "error",
     "traceback": [
      "\u001b[31m---------------------------------------------------------------------------\u001b[39m",
      "\u001b[31merror\u001b[39m                                     Traceback (most recent call last)",
      "\u001b[36mCell\u001b[39m\u001b[36m \u001b[39m\u001b[32mIn[15]\u001b[39m\u001b[32m, line 2\u001b[39m\n\u001b[32m      1\u001b[39m \u001b[38;5;66;03m# Simply use 'imwrite' specificing the file name and the image to be saved\u001b[39;00m\n\u001b[32m----> \u001b[39m\u001b[32m2\u001b[39m \u001b[43mcv2\u001b[49m\u001b[43m.\u001b[49m\u001b[43mimwrite\u001b[49m\u001b[43m(\u001b[49m\u001b[33;43m'\u001b[39;49m\u001b[33;43mimages/output.jpg\u001b[39;49m\u001b[33;43m'\u001b[39;49m\u001b[43m,\u001b[49m\u001b[43m \u001b[49m\u001b[38;5;28;43minput\u001b[39;49m\u001b[43m)\u001b[49m\n\u001b[32m      3\u001b[39m cv2.imwrite(\u001b[33m'\u001b[39m\u001b[33mimages/output.jpg\u001b[39m\u001b[33m'\u001b[39m, \u001b[38;5;28minput\u001b[39m)\n\u001b[32m      5\u001b[39m \u001b[38;5;28;01mTrue\u001b[39;00m\n",
      "\u001b[31merror\u001b[39m: OpenCV(4.12.0) :-1: error: (-5:Bad argument) in function 'imwrite'\n> Overload resolution failed:\n>  - img is not a numpy array, neither a scalar\n>  - Expected Ptr<cv::UMat> for argument 'img'\n"
     ]
    }
   ],
   "source": [
    "# Simply use 'imwrite' specificing the file name and the image to be saved\n",
    "cv2.imwrite('images/output.jpg', input)\n",
    "cv2.imwrite('images/output.jpg', input)\n",
    "\n",
    "True"
   ]
  },
  {
   "cell_type": "markdown",
   "metadata": {},
   "source": [
    "# Challenge!!\n",
    "\n",
    "### Directions\n",
    "Gather at least five images of different file extensions. Identify which of these are readable by OpenCV using cv2.imread. Check and validate using cv2.imshow. Save each images into different file extension. Submit a zip file compilation of this challenge and rename the folder with \"LAST, First MI\" format (DHARMA, John Michael A)"
   ]
  },
  {
   "cell_type": "code",
   "execution_count": 6,
   "metadata": {},
   "outputs": [
    {
     "name": "stdout",
     "output_type": "stream",
     "text": [
      "\n",
      "Processing: ./images/test1.jpg\n",
      "Successfully read test1.jpg, Shape: (1080, 1920, 3)\n",
      "Saved test1.jpg as ./output/converted_1.png\n",
      "\n",
      "Processing: ./images/test2.png\n",
      "Successfully read test2.png, Shape: (266, 474, 3)\n",
      "Saved test2.png as ./output/converted_2.png\n",
      "\n",
      "Processing: ./images/test3.bmp\n",
      "Successfully read test3.bmp, Shape: (720, 1280, 3)\n",
      "Saved test3.bmp as ./output/converted_3.png\n",
      "\n",
      "Processing: ./images/test4.tiff\n",
      "Successfully read test4.tiff, Shape: (720, 1280, 3)\n",
      "Saved test4.tiff as ./output/converted_4.png\n",
      "\n",
      "Processing: ./images/test5.webp\n",
      "Successfully read test5.webp, Shape: (1280, 961, 3)\n",
      "Saved test5.webp as ./output/converted_5.png\n"
     ]
    }
   ],
   "source": [
    "import cv2\n",
    "import os\n",
    "\n",
    "input_folder = \"./images/\"\n",
    "output_folder = \"./output/\"\n",
    "os.makedirs(output_folder, exist_ok=True)\n",
    "\n",
    "images = [\n",
    "    \"test1.jpg\",\n",
    "    \"test2.png\",\n",
    "    \"test3.bmp\",\n",
    "    \"test4.tiff\",\n",
    "    \"test5.webp\"\n",
    "]\n",
    "\n",
    "try:\n",
    "    import tkinter as tk\n",
    "    root = tk.Tk()\n",
    "    screen_width = root.winfo_screenwidth()\n",
    "    screen_height = root.winfo_screenheight()\n",
    "    root.destroy()\n",
    "except:\n",
    "    screen_width, screen_height = 1366, 768\n",
    "\n",
    "window_width, window_height = 600, 400\n",
    "\n",
    "for i, filename in enumerate(images, start=1):\n",
    "    path = os.path.join(input_folder, filename)\n",
    "    print(f\"\\nProcessing: {path}\")\n",
    "    img = cv2.imread(path)\n",
    "\n",
    "    if img is None:\n",
    "        print(f\"Could not read {filename}\")\n",
    "        continue\n",
    "\n",
    "    print(f\"Successfully read {filename}, Shape: {img.shape}\")\n",
    "    win_name = f\"Image Viewer\"\n",
    "    cv2.namedWindow(win_name, cv2.WINDOW_NORMAL)\n",
    "    cv2.resizeWindow(win_name, window_width, window_height)\n",
    "\n",
    "    resized = cv2.resize(img, (window_width, window_height))\n",
    "\n",
    "    x = (screen_width - window_width) // 2\n",
    "    y = (screen_height - window_height) // 2\n",
    "    cv2.moveWindow(win_name, x, y)\n",
    "\n",
    "    cv2.imshow(win_name, resized)\n",
    "    cv2.waitKey(0)\n",
    "    cv2.destroyAllWindows()\n",
    "\n",
    "    save_path = os.path.join(output_folder, f\"converted_{i}.png\")\n",
    "    cv2.imwrite(save_path, img)\n",
    "    print(f\"Saved {filename} as {save_path}\")\n"
   ]
  },
  {
   "cell_type": "code",
   "execution_count": null,
   "metadata": {},
   "outputs": [],
   "source": []
  }
 ],
 "metadata": {
  "kernelspec": {
   "display_name": "Python 3.12",
   "language": "python",
   "name": "python312"
  },
  "language_info": {
   "codemirror_mode": {
    "name": "ipython",
    "version": 3
   },
   "file_extension": ".py",
   "mimetype": "text/x-python",
   "name": "python",
   "nbconvert_exporter": "python",
   "pygments_lexer": "ipython3",
   "version": "3.12.10"
  }
 },
 "nbformat": 4,
 "nbformat_minor": 4
}
